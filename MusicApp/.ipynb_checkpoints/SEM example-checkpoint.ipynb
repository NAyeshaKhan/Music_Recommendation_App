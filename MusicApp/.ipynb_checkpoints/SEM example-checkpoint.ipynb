{
 "cells": [
  {
   "cell_type": "code",
   "execution_count": 7,
   "id": "83d1b405",
   "metadata": {},
   "outputs": [
    {
     "name": "stdout",
     "output_type": "stream",
     "text": [
      "# measurement model\n",
      "ind60 =~ x1 + x2 + x3\n",
      "dem60 =~ y1 + y2 + y3 + y4\n",
      "dem65 =~ y5 + y6 + y7 + y8\n",
      "# regressions\n",
      "dem60 ~ ind60\n",
      "dem65 ~ ind60 + dem60\n",
      "# residual correlations\n",
      "y1 ~~ y5\n",
      "y2 ~~ y4 + y6\n",
      "y3 ~~ y7\n",
      "y4 ~~ y8\n",
      "y6 ~~ y8\n"
     ]
    }
   ],
   "source": [
    "import semopy\n",
    "import pandas as pd\n",
    "desc = semopy.examples.political_democracy.get_model()\n",
    "print(desc)"
   ]
  },
  {
   "cell_type": "code",
   "execution_count": 8,
   "id": "ca34b743",
   "metadata": {},
   "outputs": [
    {
     "name": "stdout",
     "output_type": "stream",
     "text": [
      "      y1        y2        y3        y4        y5        y6        y7  \\\n",
      "1   2.50  0.000000  3.333333  0.000000  1.250000  0.000000  3.726360   \n",
      "2   1.25  0.000000  3.333333  0.000000  6.250000  1.100000  6.666666   \n",
      "3   7.50  8.800000  9.999998  9.199991  8.750000  8.094061  9.999998   \n",
      "4   8.90  8.800000  9.999998  9.199991  8.907948  8.127979  9.999998   \n",
      "5  10.00  3.333333  9.999998  6.666666  7.500000  3.333333  9.999998   \n",
      "\n",
      "         y8        x1        x2        x3  \n",
      "1  3.333333  4.442651  3.637586  2.557615  \n",
      "2  0.736999  5.384495  5.062595  3.568079  \n",
      "3  8.211809  5.961005  6.255750  5.224433  \n",
      "4  4.615086  6.285998  7.567863  6.267495  \n",
      "5  6.666666  5.863631  6.818924  4.573679  \n"
     ]
    }
   ],
   "source": [
    "data = semopy.examples.political_democracy.get_data()\n",
    "print(data.head())"
   ]
  },
  {
   "cell_type": "code",
   "execution_count": 9,
   "id": "d25bf298",
   "metadata": {},
   "outputs": [
    {
     "name": "stdout",
     "output_type": "stream",
     "text": [
      "Name of objective: MLW\n",
      "Optimization method: SLSQP\n",
      "Optimization successful.\n",
      "Optimization terminated successfully\n",
      "Objective value: 0.508\n",
      "Number of iterations: 52\n",
      "Params: 2.180 1.819 1.257 1.058 1.265 1.186 1.280 1.266 1.482 0.572 0.838 0.624 1.893 1.320 2.156 7.385 0.793 5.067 0.347 3.148 1.357 4.954 0.082 3.951 0.467 2.352 3.256 3.430 0.120 0.172 0.448\n"
     ]
    }
   ],
   "source": [
    "mod = semopy.Model(desc)\n",
    "res = mod.fit(data)\n",
    "print(res)"
   ]
  },
  {
   "cell_type": "code",
   "execution_count": 10,
   "id": "91627891",
   "metadata": {},
   "outputs": [
    {
     "name": "stdout",
     "output_type": "stream",
     "text": [
      "     lval  op   rval  Estimate  Std. Err    z-value   p-value\n",
      "0   dem60   ~  ind60  1.482379  0.399024   3.715017  0.000203\n",
      "1   dem65   ~  ind60  0.571912  0.221383   2.583364  0.009784\n",
      "2   dem65   ~  dem60  0.837574  0.098446   8.507992       0.0\n",
      "3      x1   ~  ind60  1.000000         -          -         -\n",
      "4      x2   ~  ind60  2.180494  0.138565  15.736254       0.0\n",
      "5      x3   ~  ind60  1.818546  0.151993   11.96465       0.0\n",
      "6      y1   ~  dem60  1.000000         -          -         -\n",
      "7      y2   ~  dem60  1.256819  0.182687   6.879647       0.0\n",
      "8      y3   ~  dem60  1.058174  0.151521   6.983699       0.0\n",
      "9      y4   ~  dem60  1.265186  0.145151   8.716344       0.0\n",
      "10     y5   ~  dem65  1.000000         -          -         -\n",
      "11     y6   ~  dem65  1.185743  0.168908   7.020032       0.0\n",
      "12     y7   ~  dem65  1.279717  0.159996    7.99841       0.0\n",
      "13     y8   ~  dem65  1.266084  0.158238   8.001141       0.0\n",
      "14  dem60  ~~  dem60  3.950849  0.920451   4.292296  0.000018\n",
      "15  dem65  ~~  dem65  0.172210  0.214861   0.801494  0.422846\n",
      "16  ind60  ~~  ind60  0.448321  0.086677   5.172345       0.0\n",
      "17     y1  ~~     y5  0.624423  0.358435   1.742083  0.081494\n",
      "18     y1  ~~     y1  1.892743   0.44456   4.257565  0.000021\n",
      "19     y2  ~~     y4  1.319589   0.70268   1.877937   0.06039\n",
      "20     y2  ~~     y6  2.156164  0.734155   2.936934  0.003315\n",
      "21     y2  ~~     y2  7.385292  1.375671   5.368501       0.0\n",
      "22     y3  ~~     y7  0.793329  0.607642   1.305585  0.191694\n",
      "23     y3  ~~     y3  5.066628  0.951722   5.323646       0.0\n",
      "24     y4  ~~     y8  0.347222  0.442234   0.785154  0.432363\n",
      "25     y4  ~~     y4  3.147911  0.738841   4.260605   0.00002\n",
      "26     y6  ~~     y8  1.357037    0.5685   2.387047  0.016984\n",
      "27     y6  ~~     y6  4.954364  0.914284   5.418843       0.0\n",
      "28     x1  ~~     x1  0.081573  0.019495   4.184317  0.000029\n",
      "29     x3  ~~     x3  0.466732  0.090168   5.176276       0.0\n",
      "30     y5  ~~     y5  2.351910  0.480369   4.896044  0.000001\n",
      "31     y8  ~~     y8  3.256389   0.69504   4.685182  0.000003\n",
      "32     y7  ~~     y7  3.430032  0.712732   4.812512  0.000001\n",
      "33     x2  ~~     x2  0.119894  0.069747   1.718973  0.085619\n"
     ]
    }
   ],
   "source": [
    "ins = mod.inspect()\n",
    "print(ins)"
   ]
  }
 ],
 "metadata": {
  "kernelspec": {
   "display_name": "Python 3 (ipykernel)",
   "language": "python",
   "name": "python3"
  },
  "language_info": {
   "codemirror_mode": {
    "name": "ipython",
    "version": 3
   },
   "file_extension": ".py",
   "mimetype": "text/x-python",
   "name": "python",
   "nbconvert_exporter": "python",
   "pygments_lexer": "ipython3",
   "version": "3.9.5"
  }
 },
 "nbformat": 4,
 "nbformat_minor": 5
}

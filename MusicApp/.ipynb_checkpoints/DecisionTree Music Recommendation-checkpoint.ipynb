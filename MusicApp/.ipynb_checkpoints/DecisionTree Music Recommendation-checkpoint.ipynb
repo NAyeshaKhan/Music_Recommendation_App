{
 "cells": [
  {
   "cell_type": "code",
   "execution_count": 1,
   "id": "e1a025b2",
   "metadata": {},
   "outputs": [
    {
     "data": {
      "text/html": [
       "<div>\n",
       "<style scoped>\n",
       "    .dataframe tbody tr th:only-of-type {\n",
       "        vertical-align: middle;\n",
       "    }\n",
       "\n",
       "    .dataframe tbody tr th {\n",
       "        vertical-align: top;\n",
       "    }\n",
       "\n",
       "    .dataframe thead th {\n",
       "        text-align: right;\n",
       "    }\n",
       "</style>\n",
       "<table border=\"1\" class=\"dataframe\">\n",
       "  <thead>\n",
       "    <tr style=\"text-align: right;\">\n",
       "      <th></th>\n",
       "      <th>Age</th>\n",
       "      <th>Gender</th>\n",
       "      <th>Mood</th>\n",
       "      <th>Genre</th>\n",
       "    </tr>\n",
       "  </thead>\n",
       "  <tbody>\n",
       "    <tr>\n",
       "      <th>0</th>\n",
       "      <td>55</td>\n",
       "      <td>F</td>\n",
       "      <td>Happy</td>\n",
       "      <td>Rock</td>\n",
       "    </tr>\n",
       "    <tr>\n",
       "      <th>1</th>\n",
       "      <td>55</td>\n",
       "      <td>F</td>\n",
       "      <td>Gloomy</td>\n",
       "      <td>Blues</td>\n",
       "    </tr>\n",
       "    <tr>\n",
       "      <th>2</th>\n",
       "      <td>55</td>\n",
       "      <td>F</td>\n",
       "      <td>Stressed</td>\n",
       "      <td>Rock</td>\n",
       "    </tr>\n",
       "    <tr>\n",
       "      <th>3</th>\n",
       "      <td>55</td>\n",
       "      <td>F</td>\n",
       "      <td>Relaxing</td>\n",
       "      <td>Instrumental</td>\n",
       "    </tr>\n",
       "    <tr>\n",
       "      <th>4</th>\n",
       "      <td>55</td>\n",
       "      <td>F</td>\n",
       "      <td>Energetic</td>\n",
       "      <td>Hiphop</td>\n",
       "    </tr>\n",
       "  </tbody>\n",
       "</table>\n",
       "</div>"
      ],
      "text/plain": [
       "   Age Gender       Mood         Genre\n",
       "0   55      F      Happy          Rock\n",
       "1   55      F     Gloomy         Blues\n",
       "2   55      F   Stressed          Rock\n",
       "3   55      F   Relaxing  Instrumental\n",
       "4   55      F  Energetic        Hiphop"
      ]
     },
     "execution_count": 1,
     "metadata": {},
     "output_type": "execute_result"
    }
   ],
   "source": [
    "import pandas as pd\n",
    "import numpy as np\n",
    "import seaborn as sns\n",
    "import pickle\n",
    "\n",
    "from matplotlib import pyplot as plt\n",
    "from sklearn.tree import DecisionTreeClassifier\n",
    "from sklearn import tree\n",
    "from sklearn.model_selection import train_test_split\n",
    "from sklearn.impute import SimpleImputer\n",
    "\n",
    "from sklearn.svm import SVC \n",
    "from sklearn.metrics import accuracy_score \n",
    "from sklearn.preprocessing import StandardScaler\n",
    "import joblib\n",
    "\n",
    "df=pd.read_csv('MRec.csv')\n",
    "data=pd.read_csv('MRec2.csv')\n",
    "df.head()"
   ]
  },
  {
   "cell_type": "code",
   "execution_count": 2,
   "id": "27f7c2bb",
   "metadata": {},
   "outputs": [
    {
     "data": {
      "text/html": [
       "<div>\n",
       "<style scoped>\n",
       "    .dataframe tbody tr th:only-of-type {\n",
       "        vertical-align: middle;\n",
       "    }\n",
       "\n",
       "    .dataframe tbody tr th {\n",
       "        vertical-align: top;\n",
       "    }\n",
       "\n",
       "    .dataframe thead th {\n",
       "        text-align: right;\n",
       "    }\n",
       "</style>\n",
       "<table border=\"1\" class=\"dataframe\">\n",
       "  <thead>\n",
       "    <tr style=\"text-align: right;\">\n",
       "      <th></th>\n",
       "      <th>Age</th>\n",
       "      <th>Gender</th>\n",
       "      <th>Mood</th>\n",
       "      <th>Genre</th>\n",
       "    </tr>\n",
       "  </thead>\n",
       "  <tbody>\n",
       "    <tr>\n",
       "      <th>980</th>\n",
       "      <td>17</td>\n",
       "      <td>F</td>\n",
       "      <td>Happy</td>\n",
       "      <td>Pop</td>\n",
       "    </tr>\n",
       "    <tr>\n",
       "      <th>981</th>\n",
       "      <td>17</td>\n",
       "      <td>F</td>\n",
       "      <td>Gloomy</td>\n",
       "      <td>Pop</td>\n",
       "    </tr>\n",
       "    <tr>\n",
       "      <th>982</th>\n",
       "      <td>17</td>\n",
       "      <td>F</td>\n",
       "      <td>Stressed</td>\n",
       "      <td>Pop</td>\n",
       "    </tr>\n",
       "    <tr>\n",
       "      <th>983</th>\n",
       "      <td>17</td>\n",
       "      <td>F</td>\n",
       "      <td>Relaxing</td>\n",
       "      <td>Pop</td>\n",
       "    </tr>\n",
       "    <tr>\n",
       "      <th>984</th>\n",
       "      <td>17</td>\n",
       "      <td>F</td>\n",
       "      <td>Energetic</td>\n",
       "      <td>Pop</td>\n",
       "    </tr>\n",
       "  </tbody>\n",
       "</table>\n",
       "</div>"
      ],
      "text/plain": [
       "     Age Gender       Mood Genre\n",
       "980   17      F      Happy   Pop\n",
       "981   17      F     Gloomy   Pop\n",
       "982   17      F   Stressed   Pop\n",
       "983   17      F   Relaxing   Pop\n",
       "984   17      F  Energetic   Pop"
      ]
     },
     "execution_count": 2,
     "metadata": {},
     "output_type": "execute_result"
    }
   ],
   "source": [
    "df.tail()"
   ]
  },
  {
   "cell_type": "code",
   "execution_count": 3,
   "id": "76f12445",
   "metadata": {},
   "outputs": [
    {
     "data": {
      "text/html": [
       "<div>\n",
       "<style scoped>\n",
       "    .dataframe tbody tr th:only-of-type {\n",
       "        vertical-align: middle;\n",
       "    }\n",
       "\n",
       "    .dataframe tbody tr th {\n",
       "        vertical-align: top;\n",
       "    }\n",
       "\n",
       "    .dataframe thead th {\n",
       "        text-align: right;\n",
       "    }\n",
       "</style>\n",
       "<table border=\"1\" class=\"dataframe\">\n",
       "  <thead>\n",
       "    <tr style=\"text-align: right;\">\n",
       "      <th></th>\n",
       "      <th>Age</th>\n",
       "    </tr>\n",
       "  </thead>\n",
       "  <tbody>\n",
       "    <tr>\n",
       "      <th>count</th>\n",
       "      <td>200.000000</td>\n",
       "    </tr>\n",
       "    <tr>\n",
       "      <th>mean</th>\n",
       "      <td>26.560000</td>\n",
       "    </tr>\n",
       "    <tr>\n",
       "      <th>std</th>\n",
       "      <td>7.954418</td>\n",
       "    </tr>\n",
       "    <tr>\n",
       "      <th>min</th>\n",
       "      <td>17.000000</td>\n",
       "    </tr>\n",
       "    <tr>\n",
       "      <th>25%</th>\n",
       "      <td>21.000000</td>\n",
       "    </tr>\n",
       "    <tr>\n",
       "      <th>50%</th>\n",
       "      <td>23.000000</td>\n",
       "    </tr>\n",
       "    <tr>\n",
       "      <th>75%</th>\n",
       "      <td>32.000000</td>\n",
       "    </tr>\n",
       "    <tr>\n",
       "      <th>max</th>\n",
       "      <td>55.000000</td>\n",
       "    </tr>\n",
       "  </tbody>\n",
       "</table>\n",
       "</div>"
      ],
      "text/plain": [
       "              Age\n",
       "count  200.000000\n",
       "mean    26.560000\n",
       "std      7.954418\n",
       "min     17.000000\n",
       "25%     21.000000\n",
       "50%     23.000000\n",
       "75%     32.000000\n",
       "max     55.000000"
      ]
     },
     "execution_count": 3,
     "metadata": {},
     "output_type": "execute_result"
    }
   ],
   "source": [
    "#Mean, std, and quartiles of dataset\n",
    "data.describe()"
   ]
  },
  {
   "cell_type": "code",
   "execution_count": 4,
   "id": "948a0f0c",
   "metadata": {},
   "outputs": [
    {
     "name": "stdout",
     "output_type": "stream",
     "text": [
      "Number of null values:\n",
      "Age       0\n",
      "Gender    0\n",
      "Mood      0\n",
      "Genre     0\n",
      "dtype: int64\n"
     ]
    }
   ],
   "source": [
    "#Checking for null values to fill\n",
    "print(\"Number of null values:\")\n",
    "print(df.isnull().sum())"
   ]
  },
  {
   "cell_type": "code",
   "execution_count": 5,
   "id": "1c916d4c",
   "metadata": {},
   "outputs": [
    {
     "name": "stdout",
     "output_type": "stream",
     "text": [
      "Age : [55 50 49 47 45 44 43 42 39 37 36 34 33 32 31 30 29 28 27 26 25 24 23 22\n",
      " 21 20 19 18 17]\n",
      "Gender : ['F' 'M']\n",
      "Mood : ['Happy' 'Gloomy' 'Stressed' 'Relaxing' 'Energetic']\n",
      "Genre : ['Rock' 'Blues' 'Instrumental' 'Hiphop' 'Pop' 'Indie/Acoustic' 'Country'\n",
      " 'EDM']\n"
     ]
    }
   ],
   "source": [
    "#Checking number of unique values and wrong entries like symbols -,?,#,*,etc.\n",
    "for col in df.columns:\n",
    "    print('{} : {}'.format(col,df[col].unique()))"
   ]
  },
  {
   "cell_type": "code",
   "execution_count": 6,
   "id": "3ec795ca",
   "metadata": {},
   "outputs": [
    {
     "data": {
      "text/plain": [
       "<AxesSubplot:xlabel='Age', ylabel='Count'>"
      ]
     },
     "execution_count": 6,
     "metadata": {},
     "output_type": "execute_result"
    },
    {
     "data": {
      "image/png": "[encoded data removed]",
      "text/plain": [
       "<Figure size 432x288 with 1 Axes>"
      ]
     },
     "metadata": {
      "needs_background": "light"
     },
     "output_type": "display_data"
    }
   ],
   "source": [
    "#Histogram of Age distrbution\n",
    "sns.histplot(data=df,x='Age',color=\"#ffb5a7\")"
   ]
  },
  {
   "cell_type": "code",
   "execution_count": 7,
   "id": "4d6be640",
   "metadata": {},
   "outputs": [
    {
     "data": {
      "image/png": "[encoded data removed]",
      "text/plain": [
       "<Figure size 432x288 with 1 Axes>"
      ]
     },
     "metadata": {},
     "output_type": "display_data"
    }
   ],
   "source": [
    "#Distribution of gender by pie-chart\n",
    "df['Gender'].value_counts().plot(kind=\"pie\", autopct=\"%.2f\", colors = ['pink', '#94d2bd'])\n",
    "plt.show()"
   ]
  },
  {
   "cell_type": "code",
   "execution_count": 8,
   "id": "d70ad931",
   "metadata": {},
   "outputs": [
    {
     "data": {
      "text/html": [
       "<style type=\"text/css\">\n",
       "#T_44a48_row0_col0 {\n",
       "  width: 10em;\n",
       "  background: linear-gradient(90deg, thistle 100.0%, transparent 100.0%);\n",
       "}\n",
       "#T_44a48_row1_col0 {\n",
       "  width: 10em;\n",
       "  background: linear-gradient(90deg, thistle 34.7%, transparent 34.7%);\n",
       "}\n",
       "#T_44a48_row2_col0 {\n",
       "  width: 10em;\n",
       "  background: linear-gradient(90deg, thistle 18.4%, transparent 18.4%);\n",
       "}\n",
       "#T_44a48_row3_col0 {\n",
       "  width: 10em;\n",
       "  background: linear-gradient(90deg, thistle 13.3%, transparent 13.3%);\n",
       "}\n",
       "#T_44a48_row4_col0 {\n",
       "  width: 10em;\n",
       "  background: linear-gradient(90deg, thistle 12.2%, transparent 12.2%);\n",
       "}\n",
       "#T_44a48_row5_col0, #T_44a48_row6_col0 {\n",
       "  width: 10em;\n",
       "  background: linear-gradient(90deg, thistle 10.2%, transparent 10.2%);\n",
       "}\n",
       "#T_44a48_row7_col0 {\n",
       "  width: 10em;\n",
       "  background: linear-gradient(90deg, thistle 5.1%, transparent 5.1%);\n",
       "}\n",
       "</style>\n",
       "<table id=\"T_44a48\">\n",
       "  <thead>\n",
       "    <tr>\n",
       "      <th class=\"blank level0\" >&nbsp;</th>\n",
       "      <th id=\"T_44a48_level0_col0\" class=\"col_heading level0 col0\" >Happy</th>\n",
       "    </tr>\n",
       "  </thead>\n",
       "  <tbody>\n",
       "    <tr>\n",
       "      <th id=\"T_44a48_level0_row0\" class=\"row_heading level0 row0\" >Pop</th>\n",
       "      <td id=\"T_44a48_row0_col0\" class=\"data row0 col0\" >98</td>\n",
       "    </tr>\n",
       "    <tr>\n",
       "      <th id=\"T_44a48_level0_row1\" class=\"row_heading level0 row1\" >Rock</th>\n",
       "      <td id=\"T_44a48_row1_col0\" class=\"data row1 col0\" >34</td>\n",
       "    </tr>\n",
       "    <tr>\n",
       "      <th id=\"T_44a48_level0_row2\" class=\"row_heading level0 row2\" >Hiphop</th>\n",
       "      <td id=\"T_44a48_row2_col0\" class=\"data row2 col0\" >18</td>\n",
       "    </tr>\n",
       "    <tr>\n",
       "      <th id=\"T_44a48_level0_row3\" class=\"row_heading level0 row3\" >Indie/Acoustic</th>\n",
       "      <td id=\"T_44a48_row3_col0\" class=\"data row3 col0\" >13</td>\n",
       "    </tr>\n",
       "    <tr>\n",
       "      <th id=\"T_44a48_level0_row4\" class=\"row_heading level0 row4\" >Country</th>\n",
       "      <td id=\"T_44a48_row4_col0\" class=\"data row4 col0\" >12</td>\n",
       "    </tr>\n",
       "    <tr>\n",
       "      <th id=\"T_44a48_level0_row5\" class=\"row_heading level0 row5\" >Instrumental</th>\n",
       "      <td id=\"T_44a48_row5_col0\" class=\"data row5 col0\" >10</td>\n",
       "    </tr>\n",
       "    <tr>\n",
       "      <th id=\"T_44a48_level0_row6\" class=\"row_heading level0 row6\" >EDM</th>\n",
       "      <td id=\"T_44a48_row6_col0\" class=\"data row6 col0\" >10</td>\n",
       "    </tr>\n",
       "    <tr>\n",
       "      <th id=\"T_44a48_level0_row7\" class=\"row_heading level0 row7\" >Blues</th>\n",
       "      <td id=\"T_44a48_row7_col0\" class=\"data row7 col0\" >5</td>\n",
       "    </tr>\n",
       "  </tbody>\n",
       "</table>\n"
      ],
      "text/plain": [
       "<pandas.io.formats.style.Styler at 0x1fb9e71c8b0>"
      ]
     },
     "execution_count": 8,
     "metadata": {},
     "output_type": "execute_result"
    }
   ],
   "source": [
    "pd.DataFrame(data['Happy'].value_counts()).style.bar(color='thistle')"
   ]
  },
  {
   "cell_type": "code",
   "execution_count": 9,
   "id": "7df79517",
   "metadata": {},
   "outputs": [
    {
     "data": {
      "text/html": [
       "<style type=\"text/css\">\n",
       "#T_fe0c0_row0_col0 {\n",
       "  width: 10em;\n",
       "  background: linear-gradient(90deg, thistle 100.0%, transparent 100.0%);\n",
       "}\n",
       "#T_fe0c0_row1_col0 {\n",
       "  width: 10em;\n",
       "  background: linear-gradient(90deg, thistle 53.4%, transparent 53.4%);\n",
       "}\n",
       "#T_fe0c0_row2_col0 {\n",
       "  width: 10em;\n",
       "  background: linear-gradient(90deg, thistle 48.3%, transparent 48.3%);\n",
       "}\n",
       "#T_fe0c0_row3_col0, #T_fe0c0_row4_col0 {\n",
       "  width: 10em;\n",
       "  background: linear-gradient(90deg, thistle 43.1%, transparent 43.1%);\n",
       "}\n",
       "#T_fe0c0_row5_col0 {\n",
       "  width: 10em;\n",
       "  background: linear-gradient(90deg, thistle 32.8%, transparent 32.8%);\n",
       "}\n",
       "#T_fe0c0_row6_col0 {\n",
       "  width: 10em;\n",
       "  background: linear-gradient(90deg, thistle 13.8%, transparent 13.8%);\n",
       "}\n",
       "#T_fe0c0_row7_col0 {\n",
       "  width: 10em;\n",
       "  background: linear-gradient(90deg, thistle 10.3%, transparent 10.3%);\n",
       "}\n",
       "</style>\n",
       "<table id=\"T_fe0c0\">\n",
       "  <thead>\n",
       "    <tr>\n",
       "      <th class=\"blank level0\" >&nbsp;</th>\n",
       "      <th id=\"T_fe0c0_level0_col0\" class=\"col_heading level0 col0\" >Gloomy</th>\n",
       "    </tr>\n",
       "  </thead>\n",
       "  <tbody>\n",
       "    <tr>\n",
       "      <th id=\"T_fe0c0_level0_row0\" class=\"row_heading level0 row0\" >Indie/Acoustic</th>\n",
       "      <td id=\"T_fe0c0_row0_col0\" class=\"data row0 col0\" >58</td>\n",
       "    </tr>\n",
       "    <tr>\n",
       "      <th id=\"T_fe0c0_level0_row1\" class=\"row_heading level0 row1\" >Instrumental</th>\n",
       "      <td id=\"T_fe0c0_row1_col0\" class=\"data row1 col0\" >31</td>\n",
       "    </tr>\n",
       "    <tr>\n",
       "      <th id=\"T_fe0c0_level0_row2\" class=\"row_heading level0 row2\" >Rock</th>\n",
       "      <td id=\"T_fe0c0_row2_col0\" class=\"data row2 col0\" >28</td>\n",
       "    </tr>\n",
       "    <tr>\n",
       "      <th id=\"T_fe0c0_level0_row3\" class=\"row_heading level0 row3\" >Blues</th>\n",
       "      <td id=\"T_fe0c0_row3_col0\" class=\"data row3 col0\" >25</td>\n",
       "    </tr>\n",
       "    <tr>\n",
       "      <th id=\"T_fe0c0_level0_row4\" class=\"row_heading level0 row4\" >Country</th>\n",
       "      <td id=\"T_fe0c0_row4_col0\" class=\"data row4 col0\" >25</td>\n",
       "    </tr>\n",
       "    <tr>\n",
       "      <th id=\"T_fe0c0_level0_row5\" class=\"row_heading level0 row5\" >Pop</th>\n",
       "      <td id=\"T_fe0c0_row5_col0\" class=\"data row5 col0\" >19</td>\n",
       "    </tr>\n",
       "    <tr>\n",
       "      <th id=\"T_fe0c0_level0_row6\" class=\"row_heading level0 row6\" >Hiphop</th>\n",
       "      <td id=\"T_fe0c0_row6_col0\" class=\"data row6 col0\" >8</td>\n",
       "    </tr>\n",
       "    <tr>\n",
       "      <th id=\"T_fe0c0_level0_row7\" class=\"row_heading level0 row7\" >EDM</th>\n",
       "      <td id=\"T_fe0c0_row7_col0\" class=\"data row7 col0\" >6</td>\n",
       "    </tr>\n",
       "  </tbody>\n",
       "</table>\n"
      ],
      "text/plain": [
       "<pandas.io.formats.style.Styler at 0x1fb9c5e7d90>"
      ]
     },
     "execution_count": 9,
     "metadata": {},
     "output_type": "execute_result"
    }
   ],
   "source": [
    "pd.DataFrame(data['Gloomy'].value_counts()).style.bar(color='thistle')"
   ]
  },
  {
   "cell_type": "code",
   "execution_count": 10,
   "id": "83c6f2cf",
   "metadata": {},
   "outputs": [
    {
     "data": {
      "text/html": [
       "<style type=\"text/css\">\n",
       "#T_0985d_row0_col0 {\n",
       "  width: 10em;\n",
       "  background: linear-gradient(90deg, thistle 100.0%, transparent 100.0%);\n",
       "}\n",
       "#T_0985d_row1_col0 {\n",
       "  width: 10em;\n",
       "  background: linear-gradient(90deg, thistle 61.1%, transparent 61.1%);\n",
       "}\n",
       "#T_0985d_row2_col0 {\n",
       "  width: 10em;\n",
       "  background: linear-gradient(90deg, thistle 59.3%, transparent 59.3%);\n",
       "}\n",
       "#T_0985d_row3_col0 {\n",
       "  width: 10em;\n",
       "  background: linear-gradient(90deg, thistle 53.7%, transparent 53.7%);\n",
       "}\n",
       "#T_0985d_row4_col0 {\n",
       "  width: 10em;\n",
       "  background: linear-gradient(90deg, thistle 29.6%, transparent 29.6%);\n",
       "}\n",
       "#T_0985d_row5_col0 {\n",
       "  width: 10em;\n",
       "  background: linear-gradient(90deg, thistle 25.9%, transparent 25.9%);\n",
       "}\n",
       "#T_0985d_row6_col0 {\n",
       "  width: 10em;\n",
       "  background: linear-gradient(90deg, thistle 24.1%, transparent 24.1%);\n",
       "}\n",
       "#T_0985d_row7_col0 {\n",
       "  width: 10em;\n",
       "  background: linear-gradient(90deg, thistle 16.7%, transparent 16.7%);\n",
       "}\n",
       "</style>\n",
       "<table id=\"T_0985d\">\n",
       "  <thead>\n",
       "    <tr>\n",
       "      <th class=\"blank level0\" >&nbsp;</th>\n",
       "      <th id=\"T_0985d_level0_col0\" class=\"col_heading level0 col0\" >Stressed</th>\n",
       "    </tr>\n",
       "  </thead>\n",
       "  <tbody>\n",
       "    <tr>\n",
       "      <th id=\"T_0985d_level0_row0\" class=\"row_heading level0 row0\" >Rock</th>\n",
       "      <td id=\"T_0985d_row0_col0\" class=\"data row0 col0\" >54</td>\n",
       "    </tr>\n",
       "    <tr>\n",
       "      <th id=\"T_0985d_level0_row1\" class=\"row_heading level0 row1\" >Indie/Acoustic</th>\n",
       "      <td id=\"T_0985d_row1_col0\" class=\"data row1 col0\" >33</td>\n",
       "    </tr>\n",
       "    <tr>\n",
       "      <th id=\"T_0985d_level0_row2\" class=\"row_heading level0 row2\" >Pop</th>\n",
       "      <td id=\"T_0985d_row2_col0\" class=\"data row2 col0\" >32</td>\n",
       "    </tr>\n",
       "    <tr>\n",
       "      <th id=\"T_0985d_level0_row3\" class=\"row_heading level0 row3\" >Instrumental</th>\n",
       "      <td id=\"T_0985d_row3_col0\" class=\"data row3 col0\" >29</td>\n",
       "    </tr>\n",
       "    <tr>\n",
       "      <th id=\"T_0985d_level0_row4\" class=\"row_heading level0 row4\" >Country</th>\n",
       "      <td id=\"T_0985d_row4_col0\" class=\"data row4 col0\" >16</td>\n",
       "    </tr>\n",
       "    <tr>\n",
       "      <th id=\"T_0985d_level0_row5\" class=\"row_heading level0 row5\" >Hiphop</th>\n",
       "      <td id=\"T_0985d_row5_col0\" class=\"data row5 col0\" >14</td>\n",
       "    </tr>\n",
       "    <tr>\n",
       "      <th id=\"T_0985d_level0_row6\" class=\"row_heading level0 row6\" >EDM</th>\n",
       "      <td id=\"T_0985d_row6_col0\" class=\"data row6 col0\" >13</td>\n",
       "    </tr>\n",
       "    <tr>\n",
       "      <th id=\"T_0985d_level0_row7\" class=\"row_heading level0 row7\" >Blues</th>\n",
       "      <td id=\"T_0985d_row7_col0\" class=\"data row7 col0\" >9</td>\n",
       "    </tr>\n",
       "  </tbody>\n",
       "</table>\n"
      ],
      "text/plain": [
       "<pandas.io.formats.style.Styler at 0x1fb9e9f4af0>"
      ]
     },
     "execution_count": 10,
     "metadata": {},
     "output_type": "execute_result"
    }
   ],
   "source": [
    "pd.DataFrame(data['Stressed'].value_counts()).style.bar(color='thistle')"
   ]
  },
  {
   "cell_type": "code",
   "execution_count": 11,
   "id": "b1a557de",
   "metadata": {},
   "outputs": [
    {
     "data": {
      "text/html": [
       "<style type=\"text/css\">\n",
       "#T_44098_row0_col0 {\n",
       "  width: 10em;\n",
       "  background: linear-gradient(90deg, thistle 100.0%, transparent 100.0%);\n",
       "}\n",
       "#T_44098_row1_col0 {\n",
       "  width: 10em;\n",
       "  background: linear-gradient(90deg, thistle 77.9%, transparent 77.9%);\n",
       "}\n",
       "#T_44098_row2_col0 {\n",
       "  width: 10em;\n",
       "  background: linear-gradient(90deg, thistle 38.2%, transparent 38.2%);\n",
       "}\n",
       "#T_44098_row3_col0 {\n",
       "  width: 10em;\n",
       "  background: linear-gradient(90deg, thistle 33.8%, transparent 33.8%);\n",
       "}\n",
       "#T_44098_row4_col0 {\n",
       "  width: 10em;\n",
       "  background: linear-gradient(90deg, thistle 16.2%, transparent 16.2%);\n",
       "}\n",
       "#T_44098_row5_col0 {\n",
       "  width: 10em;\n",
       "  background: linear-gradient(90deg, thistle 14.7%, transparent 14.7%);\n",
       "}\n",
       "#T_44098_row6_col0 {\n",
       "  width: 10em;\n",
       "  background: linear-gradient(90deg, thistle 7.4%, transparent 7.4%);\n",
       "}\n",
       "#T_44098_row7_col0 {\n",
       "  width: 10em;\n",
       "  background: linear-gradient(90deg, thistle 5.9%, transparent 5.9%);\n",
       "}\n",
       "</style>\n",
       "<table id=\"T_44098\">\n",
       "  <thead>\n",
       "    <tr>\n",
       "      <th class=\"blank level0\" >&nbsp;</th>\n",
       "      <th id=\"T_44098_level0_col0\" class=\"col_heading level0 col0\" >Relaxing</th>\n",
       "    </tr>\n",
       "  </thead>\n",
       "  <tbody>\n",
       "    <tr>\n",
       "      <th id=\"T_44098_level0_row0\" class=\"row_heading level0 row0\" >Instrumental</th>\n",
       "      <td id=\"T_44098_row0_col0\" class=\"data row0 col0\" >68</td>\n",
       "    </tr>\n",
       "    <tr>\n",
       "      <th id=\"T_44098_level0_row1\" class=\"row_heading level0 row1\" >Indie/Acoustic</th>\n",
       "      <td id=\"T_44098_row1_col0\" class=\"data row1 col0\" >53</td>\n",
       "    </tr>\n",
       "    <tr>\n",
       "      <th id=\"T_44098_level0_row2\" class=\"row_heading level0 row2\" >Pop</th>\n",
       "      <td id=\"T_44098_row2_col0\" class=\"data row2 col0\" >26</td>\n",
       "    </tr>\n",
       "    <tr>\n",
       "      <th id=\"T_44098_level0_row3\" class=\"row_heading level0 row3\" >Country</th>\n",
       "      <td id=\"T_44098_row3_col0\" class=\"data row3 col0\" >23</td>\n",
       "    </tr>\n",
       "    <tr>\n",
       "      <th id=\"T_44098_level0_row4\" class=\"row_heading level0 row4\" >Rock</th>\n",
       "      <td id=\"T_44098_row4_col0\" class=\"data row4 col0\" >11</td>\n",
       "    </tr>\n",
       "    <tr>\n",
       "      <th id=\"T_44098_level0_row5\" class=\"row_heading level0 row5\" >Blues</th>\n",
       "      <td id=\"T_44098_row5_col0\" class=\"data row5 col0\" >10</td>\n",
       "    </tr>\n",
       "    <tr>\n",
       "      <th id=\"T_44098_level0_row6\" class=\"row_heading level0 row6\" >Hiphop</th>\n",
       "      <td id=\"T_44098_row6_col0\" class=\"data row6 col0\" >5</td>\n",
       "    </tr>\n",
       "    <tr>\n",
       "      <th id=\"T_44098_level0_row7\" class=\"row_heading level0 row7\" >EDM</th>\n",
       "      <td id=\"T_44098_row7_col0\" class=\"data row7 col0\" >4</td>\n",
       "    </tr>\n",
       "  </tbody>\n",
       "</table>\n"
      ],
      "text/plain": [
       "<pandas.io.formats.style.Styler at 0x1fb9e9f7b80>"
      ]
     },
     "execution_count": 11,
     "metadata": {},
     "output_type": "execute_result"
    }
   ],
   "source": [
    "pd.DataFrame(data['Relaxing'].value_counts()).style.bar(color='thistle')"
   ]
  },
  {
   "cell_type": "code",
   "execution_count": 12,
   "id": "c8f38dc7",
   "metadata": {},
   "outputs": [
    {
     "data": {
      "text/html": [
       "<style type=\"text/css\">\n",
       "#T_62e17_row0_col0 {\n",
       "  width: 10em;\n",
       "  background: linear-gradient(90deg, thistle 100.0%, transparent 100.0%);\n",
       "}\n",
       "#T_62e17_row1_col0 {\n",
       "  width: 10em;\n",
       "  background: linear-gradient(90deg, thistle 84.2%, transparent 84.2%);\n",
       "}\n",
       "#T_62e17_row2_col0 {\n",
       "  width: 10em;\n",
       "  background: linear-gradient(90deg, thistle 71.9%, transparent 71.9%);\n",
       "}\n",
       "#T_62e17_row3_col0 {\n",
       "  width: 10em;\n",
       "  background: linear-gradient(90deg, thistle 45.6%, transparent 45.6%);\n",
       "}\n",
       "#T_62e17_row4_col0 {\n",
       "  width: 10em;\n",
       "  background: linear-gradient(90deg, thistle 26.3%, transparent 26.3%);\n",
       "}\n",
       "#T_62e17_row5_col0 {\n",
       "  width: 10em;\n",
       "  background: linear-gradient(90deg, thistle 12.3%, transparent 12.3%);\n",
       "}\n",
       "#T_62e17_row6_col0, #T_62e17_row7_col0 {\n",
       "  width: 10em;\n",
       "  background: linear-gradient(90deg, thistle 5.3%, transparent 5.3%);\n",
       "}\n",
       "</style>\n",
       "<table id=\"T_62e17\">\n",
       "  <thead>\n",
       "    <tr>\n",
       "      <th class=\"blank level0\" >&nbsp;</th>\n",
       "      <th id=\"T_62e17_level0_col0\" class=\"col_heading level0 col0\" >Energetic</th>\n",
       "    </tr>\n",
       "  </thead>\n",
       "  <tbody>\n",
       "    <tr>\n",
       "      <th id=\"T_62e17_level0_row0\" class=\"row_heading level0 row0\" >Rock</th>\n",
       "      <td id=\"T_62e17_row0_col0\" class=\"data row0 col0\" >57</td>\n",
       "    </tr>\n",
       "    <tr>\n",
       "      <th id=\"T_62e17_level0_row1\" class=\"row_heading level0 row1\" >Pop</th>\n",
       "      <td id=\"T_62e17_row1_col0\" class=\"data row1 col0\" >48</td>\n",
       "    </tr>\n",
       "    <tr>\n",
       "      <th id=\"T_62e17_level0_row2\" class=\"row_heading level0 row2\" >Hiphop</th>\n",
       "      <td id=\"T_62e17_row2_col0\" class=\"data row2 col0\" >41</td>\n",
       "    </tr>\n",
       "    <tr>\n",
       "      <th id=\"T_62e17_level0_row3\" class=\"row_heading level0 row3\" >EDM</th>\n",
       "      <td id=\"T_62e17_row3_col0\" class=\"data row3 col0\" >26</td>\n",
       "    </tr>\n",
       "    <tr>\n",
       "      <th id=\"T_62e17_level0_row4\" class=\"row_heading level0 row4\" >Instrumental</th>\n",
       "      <td id=\"T_62e17_row4_col0\" class=\"data row4 col0\" >15</td>\n",
       "    </tr>\n",
       "    <tr>\n",
       "      <th id=\"T_62e17_level0_row5\" class=\"row_heading level0 row5\" >Country</th>\n",
       "      <td id=\"T_62e17_row5_col0\" class=\"data row5 col0\" >7</td>\n",
       "    </tr>\n",
       "    <tr>\n",
       "      <th id=\"T_62e17_level0_row6\" class=\"row_heading level0 row6\" >Blues</th>\n",
       "      <td id=\"T_62e17_row6_col0\" class=\"data row6 col0\" >3</td>\n",
       "    </tr>\n",
       "    <tr>\n",
       "      <th id=\"T_62e17_level0_row7\" class=\"row_heading level0 row7\" >Indie/Acoustic</th>\n",
       "      <td id=\"T_62e17_row7_col0\" class=\"data row7 col0\" >3</td>\n",
       "    </tr>\n",
       "  </tbody>\n",
       "</table>\n"
      ],
      "text/plain": [
       "<pandas.io.formats.style.Styler at 0x1fb9e9f4850>"
      ]
     },
     "execution_count": 12,
     "metadata": {},
     "output_type": "execute_result"
    }
   ],
   "source": [
    "pd.DataFrame(data['Energetic'].value_counts()).style.bar(color='thistle')"
   ]
  },
  {
   "cell_type": "code",
   "execution_count": 13,
   "id": "733f6382",
   "metadata": {},
   "outputs": [
    {
     "data": {
      "text/html": [
       "<style type=\"text/css\">\n",
       "#T_a34d2_row0_col0 {\n",
       "  width: 10em;\n",
       "  background: linear-gradient(90deg, powderblue 100.0%, transparent 100.0%);\n",
       "}\n",
       "#T_a34d2_row1_col0 {\n",
       "  width: 10em;\n",
       "  background: linear-gradient(90deg, powderblue 83.8%, transparent 83.8%);\n",
       "}\n",
       "#T_a34d2_row2_col0 {\n",
       "  width: 10em;\n",
       "  background: linear-gradient(90deg, powderblue 71.2%, transparent 71.2%);\n",
       "}\n",
       "#T_a34d2_row3_col0 {\n",
       "  width: 10em;\n",
       "  background: linear-gradient(90deg, powderblue 67.1%, transparent 67.1%);\n",
       "}\n",
       "#T_a34d2_row4_col0 {\n",
       "  width: 10em;\n",
       "  background: linear-gradient(90deg, powderblue 38.3%, transparent 38.3%);\n",
       "}\n",
       "#T_a34d2_row5_col0 {\n",
       "  width: 10em;\n",
       "  background: linear-gradient(90deg, powderblue 37.4%, transparent 37.4%);\n",
       "}\n",
       "#T_a34d2_row6_col0, #T_a34d2_row7_col0 {\n",
       "  width: 10em;\n",
       "  background: linear-gradient(90deg, powderblue 23.0%, transparent 23.0%);\n",
       "}\n",
       "</style>\n",
       "<table id=\"T_a34d2\">\n",
       "  <thead>\n",
       "    <tr>\n",
       "      <th class=\"blank level0\" >&nbsp;</th>\n",
       "      <th id=\"T_a34d2_level0_col0\" class=\"col_heading level0 col0\" >Genre</th>\n",
       "    </tr>\n",
       "  </thead>\n",
       "  <tbody>\n",
       "    <tr>\n",
       "      <th id=\"T_a34d2_level0_row0\" class=\"row_heading level0 row0\" >Pop</th>\n",
       "      <td id=\"T_a34d2_row0_col0\" class=\"data row0 col0\" >222</td>\n",
       "    </tr>\n",
       "    <tr>\n",
       "      <th id=\"T_a34d2_level0_row1\" class=\"row_heading level0 row1\" >Rock</th>\n",
       "      <td id=\"T_a34d2_row1_col0\" class=\"data row1 col0\" >186</td>\n",
       "    </tr>\n",
       "    <tr>\n",
       "      <th id=\"T_a34d2_level0_row2\" class=\"row_heading level0 row2\" >Indie/Acoustic</th>\n",
       "      <td id=\"T_a34d2_row2_col0\" class=\"data row2 col0\" >158</td>\n",
       "    </tr>\n",
       "    <tr>\n",
       "      <th id=\"T_a34d2_level0_row3\" class=\"row_heading level0 row3\" >Instrumental</th>\n",
       "      <td id=\"T_a34d2_row3_col0\" class=\"data row3 col0\" >149</td>\n",
       "    </tr>\n",
       "    <tr>\n",
       "      <th id=\"T_a34d2_level0_row4\" class=\"row_heading level0 row4\" >Hiphop</th>\n",
       "      <td id=\"T_a34d2_row4_col0\" class=\"data row4 col0\" >85</td>\n",
       "    </tr>\n",
       "    <tr>\n",
       "      <th id=\"T_a34d2_level0_row5\" class=\"row_heading level0 row5\" >Country</th>\n",
       "      <td id=\"T_a34d2_row5_col0\" class=\"data row5 col0\" >83</td>\n",
       "    </tr>\n",
       "    <tr>\n",
       "      <th id=\"T_a34d2_level0_row6\" class=\"row_heading level0 row6\" >Blues</th>\n",
       "      <td id=\"T_a34d2_row6_col0\" class=\"data row6 col0\" >51</td>\n",
       "    </tr>\n",
       "    <tr>\n",
       "      <th id=\"T_a34d2_level0_row7\" class=\"row_heading level0 row7\" >EDM</th>\n",
       "      <td id=\"T_a34d2_row7_col0\" class=\"data row7 col0\" >51</td>\n",
       "    </tr>\n",
       "  </tbody>\n",
       "</table>\n"
      ],
      "text/plain": [
       "<pandas.io.formats.style.Styler at 0x1fb9e9e6fa0>"
      ]
     },
     "execution_count": 13,
     "metadata": {},
     "output_type": "execute_result"
    }
   ],
   "source": [
    "pd.DataFrame(df['Genre'].value_counts()).style.bar(color='powderblue')"
   ]
  },
  {
   "cell_type": "code",
   "execution_count": 14,
   "id": "55a7d2da",
   "metadata": {},
   "outputs": [
    {
     "data": {
      "image/png": "[encoded data removed]",
      "text/plain": [
       "<Figure size 432x288 with 1 Axes>"
      ]
     },
     "metadata": {},
     "output_type": "display_data"
    }
   ],
   "source": [
    "#Distribution of genre by pie-chart\n",
    "df['Genre'].value_counts().plot(kind=\"pie\", autopct=\"%.2f\")\n",
    "plt.show()"
   ]
  },
  {
   "cell_type": "code",
   "execution_count": 15,
   "id": "146743e2",
   "metadata": {},
   "outputs": [
    {
     "name": "stdout",
     "output_type": "stream",
     "text": [
      "Data after dropping empty columns:\n",
      "(985, 4)\n"
     ]
    }
   ],
   "source": [
    "#Dropping empty columns\n",
    "df = df.dropna(axis='columns', how='all')\n",
    "\n",
    "print(\"Data after dropping empty columns:\")\n",
    "print(df.shape)"
   ]
  },
  {
   "cell_type": "code",
   "execution_count": 16,
   "id": "d5635ad6",
   "metadata": {},
   "outputs": [
    {
     "data": {
      "text/html": [
       "<div>\n",
       "<style scoped>\n",
       "    .dataframe tbody tr th:only-of-type {\n",
       "        vertical-align: middle;\n",
       "    }\n",
       "\n",
       "    .dataframe tbody tr th {\n",
       "        vertical-align: top;\n",
       "    }\n",
       "\n",
       "    .dataframe thead th {\n",
       "        text-align: right;\n",
       "    }\n",
       "</style>\n",
       "<table border=\"1\" class=\"dataframe\">\n",
       "  <thead>\n",
       "    <tr style=\"text-align: right;\">\n",
       "      <th></th>\n",
       "      <th>Age</th>\n",
       "      <th>Gender</th>\n",
       "      <th>Mood</th>\n",
       "      <th>Genre</th>\n",
       "    </tr>\n",
       "  </thead>\n",
       "  <tbody>\n",
       "    <tr>\n",
       "      <th>0</th>\n",
       "      <td>55</td>\n",
       "      <td>1</td>\n",
       "      <td>Happy</td>\n",
       "      <td>Rock</td>\n",
       "    </tr>\n",
       "    <tr>\n",
       "      <th>1</th>\n",
       "      <td>55</td>\n",
       "      <td>1</td>\n",
       "      <td>Gloomy</td>\n",
       "      <td>Blues</td>\n",
       "    </tr>\n",
       "    <tr>\n",
       "      <th>2</th>\n",
       "      <td>55</td>\n",
       "      <td>1</td>\n",
       "      <td>Stressed</td>\n",
       "      <td>Rock</td>\n",
       "    </tr>\n",
       "    <tr>\n",
       "      <th>3</th>\n",
       "      <td>55</td>\n",
       "      <td>1</td>\n",
       "      <td>Relaxing</td>\n",
       "      <td>Instrumental</td>\n",
       "    </tr>\n",
       "    <tr>\n",
       "      <th>4</th>\n",
       "      <td>55</td>\n",
       "      <td>1</td>\n",
       "      <td>Energetic</td>\n",
       "      <td>Hiphop</td>\n",
       "    </tr>\n",
       "    <tr>\n",
       "      <th>5</th>\n",
       "      <td>50</td>\n",
       "      <td>1</td>\n",
       "      <td>Happy</td>\n",
       "      <td>Rock</td>\n",
       "    </tr>\n",
       "    <tr>\n",
       "      <th>6</th>\n",
       "      <td>50</td>\n",
       "      <td>1</td>\n",
       "      <td>Gloomy</td>\n",
       "      <td>Rock</td>\n",
       "    </tr>\n",
       "  </tbody>\n",
       "</table>\n",
       "</div>"
      ],
      "text/plain": [
       "   Age  Gender       Mood         Genre\n",
       "0   55       1      Happy          Rock\n",
       "1   55       1     Gloomy         Blues\n",
       "2   55       1   Stressed          Rock\n",
       "3   55       1   Relaxing  Instrumental\n",
       "4   55       1  Energetic        Hiphop\n",
       "5   50       1      Happy          Rock\n",
       "6   50       1     Gloomy          Rock"
      ]
     },
     "execution_count": 16,
     "metadata": {},
     "output_type": "execute_result"
    }
   ],
   "source": [
    "#Replacing categorical data with integer values\n",
    "df['Gender'].replace(['M','F'],[0,1], inplace=True)\n",
    "\n",
    "#Replace null values with NaN\n",
    "df['Age'].replace('  ', np.nan, inplace=True)\n",
    "df= df.dropna(subset=['Age'])\n",
    "df['Gender'].replace('  ', np.nan, inplace=True)\n",
    "df= df.dropna(subset=['Gender'])\n",
    "df['Mood'].replace('  ', np.nan, inplace=True)\n",
    "df= df.dropna(subset=['Mood'])\n",
    "\n",
    "df.head(7)\n"
   ]
  },
  {
   "cell_type": "code",
   "execution_count": 17,
   "id": "a7c9dc14",
   "metadata": {},
   "outputs": [
    {
     "data": {
      "text/html": [
       "<div>\n",
       "<style scoped>\n",
       "    .dataframe tbody tr th:only-of-type {\n",
       "        vertical-align: middle;\n",
       "    }\n",
       "\n",
       "    .dataframe tbody tr th {\n",
       "        vertical-align: top;\n",
       "    }\n",
       "\n",
       "    .dataframe thead th {\n",
       "        text-align: right;\n",
       "    }\n",
       "</style>\n",
       "<table border=\"1\" class=\"dataframe\">\n",
       "  <thead>\n",
       "    <tr style=\"text-align: right;\">\n",
       "      <th></th>\n",
       "      <th>Age</th>\n",
       "      <th>Gender</th>\n",
       "      <th>Mood</th>\n",
       "      <th>Genre</th>\n",
       "    </tr>\n",
       "  </thead>\n",
       "  <tbody>\n",
       "    <tr>\n",
       "      <th>0</th>\n",
       "      <td>55</td>\n",
       "      <td>1</td>\n",
       "      <td>2</td>\n",
       "      <td>Rock</td>\n",
       "    </tr>\n",
       "    <tr>\n",
       "      <th>1</th>\n",
       "      <td>55</td>\n",
       "      <td>1</td>\n",
       "      <td>1</td>\n",
       "      <td>Blues</td>\n",
       "    </tr>\n",
       "    <tr>\n",
       "      <th>2</th>\n",
       "      <td>55</td>\n",
       "      <td>1</td>\n",
       "      <td>4</td>\n",
       "      <td>Rock</td>\n",
       "    </tr>\n",
       "    <tr>\n",
       "      <th>3</th>\n",
       "      <td>55</td>\n",
       "      <td>1</td>\n",
       "      <td>3</td>\n",
       "      <td>Instrumental</td>\n",
       "    </tr>\n",
       "    <tr>\n",
       "      <th>4</th>\n",
       "      <td>55</td>\n",
       "      <td>1</td>\n",
       "      <td>0</td>\n",
       "      <td>Hiphop</td>\n",
       "    </tr>\n",
       "    <tr>\n",
       "      <th>5</th>\n",
       "      <td>50</td>\n",
       "      <td>1</td>\n",
       "      <td>2</td>\n",
       "      <td>Rock</td>\n",
       "    </tr>\n",
       "    <tr>\n",
       "      <th>6</th>\n",
       "      <td>50</td>\n",
       "      <td>1</td>\n",
       "      <td>1</td>\n",
       "      <td>Rock</td>\n",
       "    </tr>\n",
       "    <tr>\n",
       "      <th>7</th>\n",
       "      <td>50</td>\n",
       "      <td>1</td>\n",
       "      <td>4</td>\n",
       "      <td>Rock</td>\n",
       "    </tr>\n",
       "    <tr>\n",
       "      <th>8</th>\n",
       "      <td>50</td>\n",
       "      <td>1</td>\n",
       "      <td>3</td>\n",
       "      <td>Rock</td>\n",
       "    </tr>\n",
       "    <tr>\n",
       "      <th>9</th>\n",
       "      <td>50</td>\n",
       "      <td>1</td>\n",
       "      <td>0</td>\n",
       "      <td>Rock</td>\n",
       "    </tr>\n",
       "  </tbody>\n",
       "</table>\n",
       "</div>"
      ],
      "text/plain": [
       "   Age  Gender  Mood         Genre\n",
       "0   55       1     2          Rock\n",
       "1   55       1     1         Blues\n",
       "2   55       1     4          Rock\n",
       "3   55       1     3  Instrumental\n",
       "4   55       1     0        Hiphop\n",
       "5   50       1     2          Rock\n",
       "6   50       1     1          Rock\n",
       "7   50       1     4          Rock\n",
       "8   50       1     3          Rock\n",
       "9   50       1     0          Rock"
      ]
     },
     "execution_count": 17,
     "metadata": {},
     "output_type": "execute_result"
    }
   ],
   "source": [
    "#Ordinal Encoder for mood\n",
    "from category_encoders import OrdinalEncoder\n",
    "\n",
    "mapping_1 = {}\n",
    "for category in sorted(list(df['Mood'].unique())):\n",
    "    mapping_1[category] = sorted(list(df['Mood'].unique())).index(category)\n",
    "\n",
    "maplist_1 = [{'col': 'Mood', \n",
    "            'mapping': mapping_1}]\n",
    "\n",
    "Ordinal_Encoder_1 = OrdinalEncoder(mapping=maplist_1)\n",
    "\n",
    "df = Ordinal_Encoder_1.fit_transform(df)\n",
    "df.head(10)"
   ]
  },
  {
   "cell_type": "code",
   "execution_count": 18,
   "id": "e9bf8cf6",
   "metadata": {
    "scrolled": true
   },
   "outputs": [
    {
     "data": {
      "text/html": [
       "<div>\n",
       "<style scoped>\n",
       "    .dataframe tbody tr th:only-of-type {\n",
       "        vertical-align: middle;\n",
       "    }\n",
       "\n",
       "    .dataframe tbody tr th {\n",
       "        vertical-align: top;\n",
       "    }\n",
       "\n",
       "    .dataframe thead th {\n",
       "        text-align: right;\n",
       "    }\n",
       "</style>\n",
       "<table border=\"1\" class=\"dataframe\">\n",
       "  <thead>\n",
       "    <tr style=\"text-align: right;\">\n",
       "      <th></th>\n",
       "      <th>Age</th>\n",
       "      <th>Gender</th>\n",
       "      <th>Mood</th>\n",
       "      <th>Genre</th>\n",
       "    </tr>\n",
       "  </thead>\n",
       "  <tbody>\n",
       "    <tr>\n",
       "      <th>0</th>\n",
       "      <td>55</td>\n",
       "      <td>1</td>\n",
       "      <td>2</td>\n",
       "      <td>Rock</td>\n",
       "    </tr>\n",
       "    <tr>\n",
       "      <th>1</th>\n",
       "      <td>55</td>\n",
       "      <td>1</td>\n",
       "      <td>1</td>\n",
       "      <td>Blues</td>\n",
       "    </tr>\n",
       "    <tr>\n",
       "      <th>2</th>\n",
       "      <td>55</td>\n",
       "      <td>1</td>\n",
       "      <td>4</td>\n",
       "      <td>Rock</td>\n",
       "    </tr>\n",
       "    <tr>\n",
       "      <th>3</th>\n",
       "      <td>55</td>\n",
       "      <td>1</td>\n",
       "      <td>3</td>\n",
       "      <td>Instrumental</td>\n",
       "    </tr>\n",
       "    <tr>\n",
       "      <th>4</th>\n",
       "      <td>55</td>\n",
       "      <td>1</td>\n",
       "      <td>0</td>\n",
       "      <td>Hiphop</td>\n",
       "    </tr>\n",
       "  </tbody>\n",
       "</table>\n",
       "</div>"
      ],
      "text/plain": [
       "   Age  Gender  Mood         Genre\n",
       "0   55       1     2          Rock\n",
       "1   55       1     1         Blues\n",
       "2   55       1     4          Rock\n",
       "3   55       1     3  Instrumental\n",
       "4   55       1     0        Hiphop"
      ]
     },
     "execution_count": 18,
     "metadata": {},
     "output_type": "execute_result"
    }
   ],
   "source": [
    "#Replacing NaN instances with mean values\n",
    "columns=df[['Age','Gender']]\n",
    "for col in columns:\n",
    "    df[col]=pd.to_numeric(df[col])\n",
    "    df[col].fillna(df[col].mean(), inplace=True)\n",
    "\n",
    "df.head()"
   ]
  },
  {
   "cell_type": "code",
   "execution_count": 19,
   "id": "c161bbec",
   "metadata": {
    "scrolled": true
   },
   "outputs": [
    {
     "data": {
      "text/plain": [
       "(array([98., 10., 10.,  0., 34., 13.,  0., 18., 12.,  5.]),\n",
       " array([0. , 0.7, 1.4, 2.1, 2.8, 3.5, 4.2, 4.9, 5.6, 6.3, 7. ]),\n",
       " <BarContainer object of 10 artists>)"
      ]
     },
     "execution_count": 19,
     "metadata": {},
     "output_type": "execute_result"
    },
    {
     "data": {
      "image/png": "[encoded data removed]",
      "text/plain": [
       "<Figure size 432x288 with 1 Axes>"
      ]
     },
     "metadata": {
      "needs_background": "light"
     },
     "output_type": "display_data"
    }
   ],
   "source": [
    "plt.hist(data['Happy'],color = \"#bde0fe\", rwidth=0.9)"
   ]
  },
  {
   "cell_type": "code",
   "execution_count": 20,
   "id": "51fba8d7",
   "metadata": {},
   "outputs": [
    {
     "data": {
      "text/plain": [
       "<AxesSubplot:xlabel='Age', ylabel='Genre'>"
      ]
     },
     "execution_count": 20,
     "metadata": {},
     "output_type": "execute_result"
    },
    {
     "data": {
      "image/png": "[encoded data removed]",
      "text/plain": [
       "<Figure size 432x288 with 1 Axes>"
      ]
     },
     "metadata": {
      "needs_background": "light"
     },
     "output_type": "display_data"
    }
   ],
   "source": [
    "#Boxplot between Age and Genre, coloured by Gender\n",
    "sns.boxplot(x='Age',y='Genre',hue='Gender',color = '#bbdef9',data=df)"
   ]
  },
  {
   "cell_type": "code",
   "execution_count": 21,
   "id": "60ee7ee0",
   "metadata": {},
   "outputs": [
    {
     "data": {
      "text/plain": [
       "<AxesSubplot:xlabel='Genre', ylabel='Mood'>"
      ]
     },
     "execution_count": 21,
     "metadata": {},
     "output_type": "execute_result"
    },
    {
     "data": {
      "image/png": "[encoded data removed]",
      "text/plain": [
       "<Figure size 432x288 with 2 Axes>"
      ]
     },
     "metadata": {
      "needs_background": "light"
     },
     "output_type": "display_data"
    }
   ],
   "source": [
    "#Correlation between Mood and Genre\n",
    "MoodVal=['Happy','Gloomy','Stressed','Relaxing','Energetic']\n",
    "sns.heatmap(pd.crosstab(df['Mood'], df['Genre']))"
   ]
  },
  {
   "cell_type": "code",
   "execution_count": 22,
   "id": "f44a822b",
   "metadata": {},
   "outputs": [
    {
     "data": {
      "text/plain": [
       "<AxesSubplot:xlabel='Happy', ylabel='Age'>"
      ]
     },
     "execution_count": 22,
     "metadata": {},
     "output_type": "execute_result"
    },
    {
     "data": {
      "image/png": "[encoded data removed]",
      "text/plain": [
       "<Figure size 432x288 with 2 Axes>"
      ]
     },
     "metadata": {
      "needs_background": "light"
     },
     "output_type": "display_data"
    }
   ],
   "source": [
    "#Correlation between which Genre is preferred by age groups when Happy\n",
    "sns.heatmap(pd.crosstab(data['Age'], data['Happy']))"
   ]
  },
  {
   "cell_type": "code",
   "execution_count": 23,
   "id": "96a9025a",
   "metadata": {},
   "outputs": [
    {
     "data": {
      "text/plain": [
       "<AxesSubplot:xlabel='Gloomy', ylabel='Age'>"
      ]
     },
     "execution_count": 23,
     "metadata": {},
     "output_type": "execute_result"
    },
    {
     "data": {
      "image/png": "[encoded data removed]",
      "text/plain": [
       "<Figure size 432x288 with 2 Axes>"
      ]
     },
     "metadata": {
      "needs_background": "light"
     },
     "output_type": "display_data"
    }
   ],
   "source": [
    "#Correlation between which Genre is preferred by age groups when Gloomy\n",
    "sns.heatmap(pd.crosstab(data['Age'], data['Gloomy']))"
   ]
  },
  {
   "cell_type": "code",
   "execution_count": 24,
   "id": "27eb4610",
   "metadata": {},
   "outputs": [
    {
     "data": {
      "text/plain": [
       "<AxesSubplot:xlabel='Stressed', ylabel='Age'>"
      ]
     },
     "execution_count": 24,
     "metadata": {},
     "output_type": "execute_result"
    },
    {
     "data": {
      "image/png": "[encoded data removed]",
      "text/plain": [
       "<Figure size 432x288 with 2 Axes>"
      ]
     },
     "metadata": {
      "needs_background": "light"
     },
     "output_type": "display_data"
    }
   ],
   "source": [
    "#Correlation between which Genre is preferred by age groups when Stressed\n",
    "sns.heatmap(pd.crosstab(data['Age'], data['Stressed']))"
   ]
  },
  {
   "cell_type": "code",
   "execution_count": 25,
   "id": "a9e9cd36",
   "metadata": {},
   "outputs": [
    {
     "data": {
      "text/plain": [
       "<AxesSubplot:xlabel='Relaxing', ylabel='Age'>"
      ]
     },
     "execution_count": 25,
     "metadata": {},
     "output_type": "execute_result"
    },
    {
     "data": {
      "image/png": "[encoded data removed]",
      "text/plain": [
       "<Figure size 432x288 with 2 Axes>"
      ]
     },
     "metadata": {
      "needs_background": "light"
     },
     "output_type": "display_data"
    }
   ],
   "source": [
    "#Correlation between which Genre is preferred by age groups when Relaxing\n",
    "sns.heatmap(pd.crosstab(data['Age'], data['Relaxing']))"
   ]
  },
  {
   "cell_type": "code",
   "execution_count": 26,
   "id": "d7ffbe30",
   "metadata": {},
   "outputs": [
    {
     "data": {
      "text/plain": [
       "<AxesSubplot:xlabel='Energetic', ylabel='Age'>"
      ]
     },
     "execution_count": 26,
     "metadata": {},
     "output_type": "execute_result"
    },
    {
     "data": {
      "image/png": "[encoded data removed]",
      "text/plain": [
       "<Figure size 432x288 with 2 Axes>"
      ]
     },
     "metadata": {
      "needs_background": "light"
     },
     "output_type": "display_data"
    }
   ],
   "source": [
    "#Correlation between which Genre is preferred by age groups when Energetic\n",
    "sns.heatmap(pd.crosstab(data['Age'], data['Energetic']))"
   ]
  },
  {
   "cell_type": "code",
   "execution_count": 27,
   "id": "5bcae266",
   "metadata": {
    "scrolled": true
   },
   "outputs": [
    {
     "data": {
      "text/plain": [
       "<AxesSubplot:>"
      ]
     },
     "execution_count": 27,
     "metadata": {},
     "output_type": "execute_result"
    },
    {
     "data": {
      "image/png": "[encoded data removed]",
      "text/plain": [
       "<Figure size 432x288 with 2 Axes>"
      ]
     },
     "metadata": {
      "needs_background": "light"
     },
     "output_type": "display_data"
    }
   ],
   "source": [
    "#Relationship analysis\n",
    "sns.heatmap(df.corr(),cbar=True, annot=True, cmap='Blues')"
   ]
  },
  {
   "cell_type": "code",
   "execution_count": 28,
   "id": "ef4e888c",
   "metadata": {
    "scrolled": true
   },
   "outputs": [],
   "source": [
    "#Model testing\n",
    "\n",
    "X=df[['Age','Gender','Mood']]\n",
    "y=df['Genre']\n",
    "X_train,X_test,y_train,y_test=train_test_split(X.values,y,test_size = 0.25, random_state = 1000)\n",
    "model=DecisionTreeClassifier(criterion=\"entropy\", splitter=\"best\", max_depth=14)\n",
    "model=model.fit(X_train, y_train)"
   ]
  },
  {
   "cell_type": "code",
   "execution_count": 29,
   "id": "8048c05a",
   "metadata": {},
   "outputs": [
    {
     "name": "stdout",
     "output_type": "stream",
     "text": [
      "                precision    recall  f1-score   support\n",
      "\n",
      "         Blues       0.19      0.22      0.21        18\n",
      "       Country       0.36      0.28      0.32        32\n",
      "           EDM       0.21      0.44      0.29         9\n",
      "        Hiphop       0.22      0.09      0.12        23\n",
      "Indie/Acoustic       0.35      0.53      0.42        32\n",
      "  Instrumental       0.36      0.36      0.36        39\n",
      "           Pop       0.55      0.46      0.50        56\n",
      "          Rock       0.34      0.34      0.34        38\n",
      "\n",
      "      accuracy                           0.36       247\n",
      "     macro avg       0.32      0.34      0.32       247\n",
      "  weighted avg       0.37      0.36      0.36       247\n",
      "\n",
      "0.3603238866396761\n"
     ]
    }
   ],
   "source": [
    "from sklearn import metrics\n",
    "#Classification accuracy can be misleading \n",
    "#if you have an unequal number of observations in each class, or if you have more than two classes in your dataset.\n",
    "print(metrics.classification_report(y_test, model.predict(X_test)))\n",
    "\n",
    "print(accuracy_score(y_test, model.predict(X_test)))"
   ]
  },
  {
   "cell_type": "code",
   "execution_count": 30,
   "id": "2e2fc4f9",
   "metadata": {},
   "outputs": [],
   "source": [
    "#data normalization with sklearn\n",
    "from sklearn.preprocessing import MinMaxScaler\n",
    "\n",
    "#fit scaler on training data\n",
    "norm = MinMaxScaler().fit(X_train)\n",
    "\n",
    "#transform training data\n",
    "X_train_norm = norm.transform(X_train)\n",
    "\n",
    "#transform testing database\n",
    "X_test_norm = norm.transform(X_test)\n",
    "\n",
    "from joblib import dump, load\n",
    "joblib.dump(model,'C:/Users/User/Music_Recommendation_App/MusicApp/music_predict.joblib')\n",
    "\n",
    "predictions=model.predict(X_test)"
   ]
  },
  {
   "cell_type": "code",
   "execution_count": 31,
   "id": "90f783d1",
   "metadata": {},
   "outputs": [
    {
     "data": {
      "text/html": [
       "<div>\n",
       "<style scoped>\n",
       "    .dataframe tbody tr th:only-of-type {\n",
       "        vertical-align: middle;\n",
       "    }\n",
       "\n",
       "    .dataframe tbody tr th {\n",
       "        vertical-align: top;\n",
       "    }\n",
       "\n",
       "    .dataframe thead th {\n",
       "        text-align: right;\n",
       "    }\n",
       "</style>\n",
       "<table border=\"1\" class=\"dataframe\">\n",
       "  <thead>\n",
       "    <tr style=\"text-align: right;\">\n",
       "      <th></th>\n",
       "      <th>Genre</th>\n",
       "    </tr>\n",
       "  </thead>\n",
       "  <tbody>\n",
       "    <tr>\n",
       "      <th>0</th>\n",
       "      <td>EDM</td>\n",
       "    </tr>\n",
       "    <tr>\n",
       "      <th>1</th>\n",
       "      <td>Indie/Acoustic</td>\n",
       "    </tr>\n",
       "    <tr>\n",
       "      <th>2</th>\n",
       "      <td>Pop</td>\n",
       "    </tr>\n",
       "    <tr>\n",
       "      <th>3</th>\n",
       "      <td>Country</td>\n",
       "    </tr>\n",
       "    <tr>\n",
       "      <th>4</th>\n",
       "      <td>Rock</td>\n",
       "    </tr>\n",
       "  </tbody>\n",
       "</table>\n",
       "</div>"
      ],
      "text/plain": [
       "            Genre\n",
       "0             EDM\n",
       "1  Indie/Acoustic\n",
       "2             Pop\n",
       "3         Country\n",
       "4            Rock"
      ]
     },
     "execution_count": 31,
     "metadata": {},
     "output_type": "execute_result"
    }
   ],
   "source": [
    "import joblib\n",
    "from sklearn.preprocessing import MinMaxScaler\n",
    "\n",
    "sc= MinMaxScaler\n",
    "mdl = joblib.load('C:/Users/User/Music_Recommendation_App/MusicApp/music_predict.joblib')\n",
    "X= pd.read_csv('MRec.csv')\n",
    "X_test = [[21,1,0],[22,0,3],[29,0,4],[31,0,3],[55,1,3]]\n",
    "y_pred=mdl.predict(X_test)\n",
    "\n",
    "val=pd.DataFrame(y_pred, columns=['Genre'])\n",
    "val"
   ]
  },
  {
   "cell_type": "code",
   "execution_count": 32,
   "id": "d6d161ce",
   "metadata": {},
   "outputs": [
    {
     "data": {
      "text/plain": [
       "array(['EDM', 'Indie/Acoustic', 'Pop', 'Country', 'Rock'], dtype=object)"
      ]
     },
     "execution_count": 32,
     "metadata": {},
     "output_type": "execute_result"
    }
   ],
   "source": [
    "#Load saved model\n",
    "lr = joblib.load('C:/Users/User/Music_Recommendation_App/MusicApp/music_predict.joblib')\n",
    "\n",
    "X=[[21,1,0],[22,0,3],[29,0,4],[31,0,3],[55,1,3]]\n",
    "lr.predict(X)"
   ]
  }
 ],
 "metadata": {
  "kernelspec": {
   "display_name": "Python 3 (ipykernel)",
   "language": "python",
   "name": "python3"
  },
  "language_info": {
   "codemirror_mode": {
    "name": "ipython",
    "version": 3
   },
   "file_extension": ".py",
   "mimetype": "text/x-python",
   "name": "python",
   "nbconvert_exporter": "python",
   "pygments_lexer": "ipython3",
   "version": "3.9.5"
  }
 },
 "nbformat": 4,
 "nbformat_minor": 5
}
